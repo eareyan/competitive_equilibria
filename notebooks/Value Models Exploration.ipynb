{
 "cells": [
  {
   "cell_type": "code",
   "execution_count": 1,
   "metadata": {},
   "outputs": [],
   "source": [
    "import zipfile\n",
    "import json\n",
    "import numpy as np\n",
    "import itertools as it\n",
    "import pprint\n",
    "def read_json_from_zip(json_world_loc):\n",
    "    \"\"\"\n",
    "    Reads a JSON file from a zip file.\n",
    "    \"\"\"\n",
    "    with zipfile.ZipFile(json_world_loc, \"r\") as z:\n",
    "        for filename in z.namelist():\n",
    "            with z.open(filename) as f:\n",
    "                data = json.loads(f.read().decode(\"utf-8\"))\n",
    "    return data"
   ]
  },
  {
   "cell_type": "code",
   "execution_count": 2,
   "metadata": {},
   "outputs": [
    {
     "data": {
      "image/png": "[encoded data removed]",
      "text/plain": [
       "<Figure size 432x288 with 1 Axes>"
      ]
     },
     "metadata": {
      "needs_background": "light"
     },
     "output_type": "display_data"
    }
   ],
   "source": [
    "import matplotlib.pyplot as plt\n",
    "for i in range(0, 40):\n",
    "    data = read_json_from_zip(f\"../value_models_experiments/GSVM/worlds/world{i}.zip\")\n",
    "    plt.hist([values['value'] for bidder in data['bidder_values'] for values in bidder['values']])"
   ]
  },
  {
   "cell_type": "code",
   "execution_count": 3,
   "metadata": {},
   "outputs": [],
   "source": [
    "def get_max_value(world_loc):\n",
    "    data = read_json_from_zip(world_loc)\n",
    "#     argmax = None\n",
    "#     max_va = -1\n",
    "#     for bidder in data['bidder_values']:\n",
    "#         for values in bidder['values']:\n",
    "#             if values['value'] > max_va:\n",
    "#                 max_va = values['value']\n",
    "#                 argmax = (bidder['preferred_licences'], values['bundle'])\n",
    "#     print(max_va, argmax)\n",
    "            \n",
    "    return max([values['value'] for bidder in data['bidder_values'] for values in bidder['values']])\n",
    "    #return np.mean([values['value'] for bidder in data['bidder_values'] for values in bidder['values']])"
   ]
  },
  {
   "cell_type": "code",
   "execution_count": 4,
   "metadata": {
    "scrolled": true
   },
   "outputs": [],
   "source": [
    "#for e, i in it.product([0, 1], range(0, 11)):\n",
    "    #get_max_value(f\"../experiments/GSVM/{e}/worlds/world{i}.zip\")\n",
    "#    get_max_value(f\"../experiments/LSVM/{e}/worlds/world{i}.zip\")"
   ]
  },
  {
   "cell_type": "code",
   "execution_count": 5,
   "metadata": {
    "scrolled": true
   },
   "outputs": [
    {
     "name": "stdout",
     "output_type": "stream",
     "text": [
      "[325.70129897,\n",
      " 318.68412784,\n",
      " 312.16985505,\n",
      " 309.40451167,\n",
      " 307.66401911,\n",
      " 303.16630144,\n",
      " 299.998801,\n",
      " 298.0801192,\n",
      " 296.09483878,\n",
      " 291.9570547,\n",
      " 289.08866378,\n",
      " 281.42520217,\n",
      " 279.83071616,\n",
      " 278.32060369,\n",
      " 276.98875434,\n",
      " 275.66701435,\n",
      " 275.08536459,\n",
      " 273.48287567,\n",
      " 270.57923912,\n",
      " 269.08888677,\n",
      " 267.06140717,\n",
      " 267.02634887,\n",
      " 264.88362231,\n",
      " 262.61808616,\n",
      " 245.66865731,\n",
      " 243.3908842,\n",
      " 242.83196515,\n",
      " 239.51685952,\n",
      " 239.22195152,\n",
      " 238.43754961,\n",
      " 238.34975506,\n",
      " 235.94061722,\n",
      " 229.18400673,\n",
      " 227.06592476,\n",
      " 221.872167,\n",
      " 219.55794196,\n",
      " 211.73211615,\n",
      " 206.38508163,\n",
      " 195.23497377,\n",
      " 186.53357795]\n"
     ]
    }
   ],
   "source": [
    "l = [get_max_value(f\"../value_models_experiments/GSVM/worlds/world{i}.zip\") for i in range(0, 40)]\n",
    "l = sorted(l, reverse=True)\n",
    "pprint.pprint(l)"
   ]
  },
  {
   "cell_type": "code",
   "execution_count": 6,
   "metadata": {},
   "outputs": [
    {
     "name": "stdout",
     "output_type": "stream",
     "text": [
      "[516.61468818,\n",
      " 497.56160175,\n",
      " 493.10540621,\n",
      " 490.85337095,\n",
      " 490.76441963,\n",
      " 489.32152792,\n",
      " 489.14216765,\n",
      " 484.77298239,\n",
      " 480.17010773,\n",
      " 470.83543253,\n",
      " 469.53539145,\n",
      " 466.65513395,\n",
      " 465.54581251,\n",
      " 463.64748406,\n",
      " 462.11146447,\n",
      " 459.45354654,\n",
      " 457.77177627,\n",
      " 456.21456112,\n",
      " 452.72433645,\n",
      " 452.209324,\n",
      " 451.87322988,\n",
      " 451.3357093,\n",
      " 450.07494367,\n",
      " 450.04870912,\n",
      " 447.69661994,\n",
      " 447.38751385,\n",
      " 446.01915708,\n",
      " 444.92886297,\n",
      " 439.89524552,\n",
      " 439.00411847,\n",
      " 436.49924955,\n",
      " 436.3208037,\n",
      " 433.83756233,\n",
      " 431.86170516,\n",
      " 430.85354422,\n",
      " 429.78393731,\n",
      " 429.74494466,\n",
      " 425.42618926,\n",
      " 424.70315449,\n",
      " 423.15995963,\n",
      " 423.1156044,\n",
      " 417.8199999,\n",
      " 414.40291146,\n",
      " 413.74037875,\n",
      " 412.46388122,\n",
      " 412.06617508,\n",
      " 396.88713394,\n",
      " 392.4692637,\n",
      " 388.10733818,\n",
      " 370.9384663]\n"
     ]
    }
   ],
   "source": [
    "l = [get_max_value(f\"../value_models_experiments/LSVM/worlds/world{i}.zip\") for i in range(0, 50)]\n",
    "l =sorted(l, reverse=True)\n",
    "pprint.pprint(l)"
   ]
  }
 ],
 "metadata": {
  "kernelspec": {
   "display_name": "Python 3",
   "language": "python",
   "name": "python3"
  },
  "language_info": {
   "codemirror_mode": {
    "name": "ipython",
    "version": 3
   },
   "file_extension": ".py",
   "mimetype": "text/x-python",
   "name": "python",
   "nbconvert_exporter": "python",
   "pygments_lexer": "ipython3",
   "version": "3.8.5"
  }
 },
 "nbformat": 4,
 "nbformat_minor": 4
}
