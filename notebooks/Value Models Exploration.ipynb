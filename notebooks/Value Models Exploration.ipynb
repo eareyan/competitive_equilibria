{
 "cells": [
  {
   "cell_type": "code",
   "execution_count": 1,
   "metadata": {},
   "outputs": [],
   "source": [
    "import zipfile\n",
    "import json\n",
    "import numpy as np\n",
    "import itertools as it\n",
    "import pprint\n",
    "def read_json_from_zip(json_world_loc):\n",
    "    \"\"\"\n",
    "    Reads a JSON file from a zip file.\n",
    "    \"\"\"\n",
    "    with zipfile.ZipFile(json_world_loc, \"r\") as z:\n",
    "        for filename in z.namelist():\n",
    "            with z.open(filename) as f:\n",
    "                data = json.loads(f.read().decode(\"utf-8\"))\n",
    "    return data"
   ]
  },
  {
   "cell_type": "code",
   "execution_count": 2,
   "metadata": {},
   "outputs": [
    {
     "data": {
      "image/png": "[encoded data removed]",
      "text/plain": [
       "<Figure size 432x288 with 1 Axes>"
      ]
     },
     "metadata": {
      "needs_background": "light"
     },
     "output_type": "display_data"
    }
   ],
   "source": [
    "import matplotlib.pyplot as plt\n",
    "for e, i in it.product([0, 1], range(0, 30)):\n",
    "    data = read_json_from_zip(f\"../experiments/GSVM/{e}/worlds/world{i}.zip\")\n",
    "    plt.hist([values['value'] for bidder in data['bidder_values'] for values in bidder['values']])"
   ]
  },
  {
   "cell_type": "code",
   "execution_count": 3,
   "metadata": {},
   "outputs": [],
   "source": [
    "def get_max_value(world_loc):\n",
    "    data = read_json_from_zip(world_loc)\n",
    "#     argmax = None\n",
    "#     max_va = -1\n",
    "#     for bidder in data['bidder_values']:\n",
    "#         for values in bidder['values']:\n",
    "#             if values['value'] > max_va:\n",
    "#                 max_va = values['value']\n",
    "#                 argmax = (bidder['preferred_licences'], values['bundle'])\n",
    "#     print(max_va, argmax)\n",
    "            \n",
    "    return max([values['value'] for bidder in data['bidder_values'] for values in bidder['values']])\n",
    "    #return np.mean([values['value'] for bidder in data['bidder_values'] for values in bidder['values']])"
   ]
  },
  {
   "cell_type": "code",
   "execution_count": 4,
   "metadata": {
    "scrolled": true
   },
   "outputs": [],
   "source": [
    "#for e, i in it.product([0, 1], range(0, 11)):\n",
    "    #get_max_value(f\"../experiments/GSVM/{e}/worlds/world{i}.zip\")\n",
    "#    get_max_value(f\"../experiments/LSVM/{e}/worlds/world{i}.zip\")"
   ]
  },
  {
   "cell_type": "code",
   "execution_count": 5,
   "metadata": {},
   "outputs": [
    {
     "name": "stdout",
     "output_type": "stream",
     "text": [
      "[508.83118552,\n",
      " 475.14379182,\n",
      " 474.3229215,\n",
      " 473.86939088,\n",
      " 472.71281777,\n",
      " 461.25642447,\n",
      " 457.88081444,\n",
      " 457.75791454,\n",
      " 457.22864286,\n",
      " 455.65699207,\n",
      " 454.25044991,\n",
      " 450.79220988,\n",
      " 448.03048938,\n",
      " 442.73614737,\n",
      " 436.42682552,\n",
      " 430.45037708,\n",
      " 426.32765251,\n",
      " 422.50019633,\n",
      " 418.02285318,\n",
      " 364.91046909]\n"
     ]
    }
   ],
   "source": [
    "l = [get_max_value(f\"../experiments/LSVM/{e}/worlds/world{i}.zip\") for e, i in it.product([0, 1], range(0, 10))]\n",
    "l =sorted(l, reverse=True)\n",
    "pprint.pprint(l)"
   ]
  },
  {
   "cell_type": "code",
   "execution_count": 6,
   "metadata": {
    "scrolled": true
   },
   "outputs": [
    {
     "name": "stdout",
     "output_type": "stream",
     "text": [
      "[369.23123846,\n",
      " 347.39393038,\n",
      " 338.00094217,\n",
      " 336.4722195,\n",
      " 323.17532131,\n",
      " 317.7457438,\n",
      " 314.35632228,\n",
      " 311.23030978,\n",
      " 311.11608867,\n",
      " 310.97129581,\n",
      " 305.27423271,\n",
      " 305.18209803,\n",
      " 304.66203409,\n",
      " 297.97991768,\n",
      " 297.29981557,\n",
      " 294.90762464,\n",
      " 292.73251734,\n",
      " 289.23825358,\n",
      " 288.93265145,\n",
      " 286.19057452,\n",
      " 280.97161514,\n",
      " 280.36207153,\n",
      " 276.88815075,\n",
      " 274.39805453,\n",
      " 273.48148883,\n",
      " 270.13538775,\n",
      " 269.37136541,\n",
      " 268.03788675,\n",
      " 267.52386959,\n",
      " 266.72030415,\n",
      " 266.01591578,\n",
      " 263.28589523,\n",
      " 261.68661813,\n",
      " 261.44238741,\n",
      " 260.01953334,\n",
      " 259.90181199,\n",
      " 258.54556081,\n",
      " 256.45318225,\n",
      " 255.72553348,\n",
      " 255.57701058,\n",
      " 253.22542478,\n",
      " 252.81469329,\n",
      " 248.48750271,\n",
      " 247.75808946,\n",
      " 247.3048774,\n",
      " 240.45693735,\n",
      " 238.28479632,\n",
      " 234.90642014,\n",
      " 232.27601225,\n",
      " 231.91436444,\n",
      " 231.74393937,\n",
      " 227.36869226,\n",
      " 226.61850991,\n",
      " 219.16477667,\n",
      " 218.05738565,\n",
      " 217.33908497,\n",
      " 216.29648674,\n",
      " 205.61403557,\n",
      " 187.65906356,\n",
      " 157.94883263]\n"
     ]
    }
   ],
   "source": [
    "l = [get_max_value(f\"../experiments/GSVM/{e}/worlds/world{i}.zip\") for e, i in it.product([0, 1], range(0, 30))]\n",
    "l = sorted(l, reverse=True)\n",
    "pprint.pprint(l)"
   ]
  }
 ],
 "metadata": {
  "kernelspec": {
   "display_name": "Python 3",
   "language": "python",
   "name": "python3"
  },
  "language_info": {
   "codemirror_mode": {
    "name": "ipython",
    "version": 3
   },
   "file_extension": ".py",
   "mimetype": "text/x-python",
   "name": "python",
   "nbconvert_exporter": "python",
   "pygments_lexer": "ipython3",
   "version": "3.8.5"
  }
 },
 "nbformat": 4,
 "nbformat_minor": 4
}
