{
 "cells": [
  {
   "cell_type": "code",
   "execution_count": 1,
   "metadata": {},
   "outputs": [],
   "source": [
    "import os\n",
    "import scipy.stats\n",
    "import pandas as pd\n",
    "import numpy as np\n",
    "import math\n",
    "from prettytable import PrettyTable\n",
    "from operator import itemgetter\n",
    "import matplotlib.pyplot as plt"
   ]
  },
  {
   "cell_type": "markdown",
   "metadata": {},
   "source": [
    "## Computing number of samples as a function of epsilon and the other way around"
   ]
  },
  {
   "cell_type": "code",
   "execution_count": 2,
   "metadata": {},
   "outputs": [],
   "source": [
    "def compute_n(c, delta, epsilon, size_of_market):\n",
    "    return (c / epsilon) * (c / epsilon) * 0.5 * math.log((2 * size_of_market) / delta)"
   ]
  },
  {
   "cell_type": "code",
   "execution_count": 3,
   "metadata": {},
   "outputs": [],
   "source": [
    "def compute_eps(c, delta, size_of_market, number_of_samples):\n",
    "    return c * math.sqrt((math.log((2.0 * size_of_market) / delta)) / (2.0 * number_of_samples))"
   ]
  },
  {
   "cell_type": "code",
   "execution_count": 4,
   "metadata": {},
   "outputs": [
    {
     "name": "stdout",
     "output_type": "stream",
     "text": [
      "[364, 729, 1459, 2919]\n",
      "[91, 182, 364, 729]\n",
      "[22, 45, 91, 182]\n",
      "[5, 11, 22, 45]\n"
     ]
    }
   ],
   "source": [
    "candidate_eps = [0.125, 0.25, 0.5, 1.0]\n",
    "for eps in candidate_eps:\n",
    "    m_eps = compute_n(2, 0.1, eps, 4480)\n",
    "    print([int(m_eps /4) , int(m_eps / 2), int(m_eps), int(2 * m_eps)])"
   ]
  },
  {
   "cell_type": "markdown",
   "metadata": {},
   "source": [
    "### Testing eps to n and n to eps functions"
   ]
  },
  {
   "cell_type": "code",
   "execution_count": 5,
   "metadata": {},
   "outputs": [],
   "source": [
    "c = 2\n",
    "delta = 0.1\n",
    "epsilon = 1.0\n",
    "size_of_market = 4480\n",
    "n = compute_n(c, delta, epsilon, size_of_market)\n",
    "assert epsilon == compute_eps(c, delta, size_of_market, n)\n",
    "assert n == compute_n(c, delta, epsilon, size_of_market)"
   ]
  },
  {
   "cell_type": "markdown",
   "metadata": {},
   "source": [
    "## Compute Statistics from LSVM worlds"
   ]
  },
  {
   "cell_type": "code",
   "execution_count": 6,
   "metadata": {},
   "outputs": [],
   "source": [
    "def compare_ea_eap(loc, world_number):\n",
    "    # Read EAP data.\n",
    "    bidders_final_values_df = pd.read_csv(f\"{loc}bidders_final_values.csv\")\n",
    "    eap_samples = bidders_final_values_df['n'].sum()\n",
    "    \n",
    "    # Compute EA data.\n",
    "    bidders_summary_df = pd.read_csv(f\"{loc}bidders_summary.csv\")\n",
    "    params_csv = pd.read_csv(f\"{loc}params.csv\")\n",
    "    c, delta, epsilon = int(params_csv.iloc[3]['value']), sum(eval(params_csv.iloc[1]['value'])), float(params_csv.iloc[6]['value'])\n",
    "    size_of_market = sum([2 ** len(eval(row[2])) for row in bidders_summary_df.itertuples()])\n",
    "    ea_samples = compute_n(c, delta, epsilon, size_of_market) * size_of_market\n",
    "    #print(f\"c = {c}, delta = {delta}, epsilon = {epsilon : .4f}, size_of_market = {size_of_market}\")\n",
    "    #print(f\"{ ea_samples : ,.0f}\")\n",
    "    #print(f\"{ eap_samples : ,}\")\n",
    "    \n",
    "    return [world_number, \n",
    "            c, \n",
    "            delta, \n",
    "            epsilon, \n",
    "            size_of_market,\n",
    "            ea_samples, \n",
    "            eap_samples,\n",
    "            (eap_samples / ea_samples) * 100.0]"
   ]
  },
  {
   "cell_type": "code",
   "execution_count": 7,
   "metadata": {
    "scrolled": true
   },
   "outputs": [
    {
     "name": "stdout",
     "output_type": "stream",
     "text": [
      "+-------+---+-------+---------+----------------+----------------+--------------+----------+\n",
      "| world | c | delta | epsilon | size_of_market |             ea |          eap |  ratio   |\n",
      "+-------+---+-------+---------+----------------+----------------+--------------+----------+\n",
      "|   7   | 2 |  0.1  |  0.0848 |     263,168    |  1,132,820,799 |  196,852,416 |  17.3772 |\n",
      "|   0   | 2 |  0.1  |  0.0877 |     264,576    |  1,066,245,240 |  308,778,690 |  28.9594 |\n",
      "|   4   | 2 |  0.1  |  0.0880 |     263,616    |  1,054,005,368 |  329,674,432 |  31.2782 |\n",
      "|   3   | 2 |  0.1  |  0.0881 |     263,616    |  1,051,992,133 |  335,523,766 |  31.8941 |\n",
      "|   5   | 2 |  0.1  |  0.0881 |     265,536    |  1,059,584,322 |  339,889,286 |  32.0776 |\n",
      "|   0   | 2 |  0.1  |  0.0882 |     264,832    |  1,053,896,024 |  346,957,299 |  32.9214 |\n",
      "|   10  | 2 |  0.1  |  0.0886 |     264,192    |  1,043,114,765 |  372,940,946 |  35.7526 |\n",
      "|   9   | 2 |  0.1  |  0.0887 |     263,872    |  1,039,161,207 |  382,385,649 |  36.7975 |\n",
      "|   3   | 2 |  0.1  |  0.0888 |     263,808    |  1,035,807,753 |  394,508,731 |  38.0871 |\n",
      "|   9   | 2 |  0.1  |  0.0888 |     263,424    |  1,033,892,067 |  395,110,690 |  38.2159 |\n",
      "|   1   | 2 |  0.1  |  0.0888 |     264,960    |  1,039,384,076 |  400,923,247 |  38.5732 |\n",
      "|   6   | 2 |  0.1  |  0.0889 |     263,616    |  1,032,370,100 |  405,011,855 |  39.2313 |\n",
      "|   8   | 2 |  0.1  |  0.0890 |     263,808    |  1,031,427,610 |  412,255,851 |  39.9694 |\n",
      "|   10  | 2 |  0.1  |  0.0892 |     265,536    |  1,034,694,339 |  433,064,665 |  41.8544 |\n",
      "|   2   | 2 |  0.1  |  0.0892 |     263,680    |  1,026,480,144 |  431,863,771 |  42.0723 |\n",
      "|   6   | 2 |  0.1  |  0.0893 |     265,856    |  1,032,385,728 |  450,265,236 |  43.6141 |\n",
      "|   2   | 2 |  0.1  |  0.0894 |     264,832    |  1,025,825,581 |  459,994,757 |  44.8414 |\n",
      "|   7   | 2 |  0.1  |  0.0894 |     265,856    |  1,029,331,198 |  465,798,521 |  45.2525 |\n",
      "|   4   | 2 |  0.1  |  0.0895 |     266,112    |  1,028,987,755 |  473,023,251 |  45.9698 |\n",
      "|   1   | 2 |  0.1  |  0.0898 |     265,024    |  1,018,077,560 |  506,889,900 |  49.7889 |\n",
      "|   8   | 2 |  0.1  |  0.0901 |     264,448    |  1,008,054,141 |  554,978,953 |  55.0545 |\n",
      "|   5   | 2 |  0.1  |  0.0905 |     268,288    |  1,015,574,882 |  621,120,892 |  61.1595 |\n",
      "+-------+---+-------+---------+----------------+----------------+--------------+----------+\n"
     ]
    }
   ],
   "source": [
    "def construct_ea_eap_ptable(results, sort_key=7):\n",
    "    # Sort by desired key\n",
    "    results = sorted(results, key=itemgetter(sort_key))\n",
    "    # Construct ptable\n",
    "    results_ptable = PrettyTable()\n",
    "    results_ptable.field_names = ['world', 'c', 'delta', 'epsilon', 'size_of_market', 'ea', 'eap', 'ratio']\n",
    "    results_ptable.align[\"ea\"] = \"r\"\n",
    "    results_ptable.align[\"eap\"] = \"r\"\n",
    "\n",
    "    for r in results:\n",
    "        results_ptable.add_row([r[0], \n",
    "                                r[1], \n",
    "                                r[2], \n",
    "                                f\"{r[3] : .4f}\", \n",
    "                                f\"{r[4] : ,}\", \n",
    "                                f\"{r[5] : ,.0f}\", \n",
    "                                f\"{r[6] : ,.0f}\", \n",
    "                                f\"{r[7] : .4f}\"])\n",
    "    return results_ptable\n",
    "\n",
    "#Collect results from all experiments. \n",
    "results_dir = '../experiments/LSVM/'\n",
    "results = []\n",
    "for e in [0, 1]:\n",
    "    for i in range(0, 11):\n",
    "        loc = f\"{results_dir}{e}/worlds_results/world{i}/eps_0.125/\"\n",
    "        results += [compare_ea_eap(loc, i)]\n",
    "print(construct_ea_eap_ptable(results))"
   ]
  },
  {
   "cell_type": "markdown",
   "metadata": {},
   "source": [
    "## Plots"
   ]
  },
  {
   "cell_type": "code",
   "execution_count": 8,
   "metadata": {},
   "outputs": [
    {
     "data": {
      "image/png": "[encoded data removed]",
      "text/plain": [
       "<Figure size 432x288 with 1 Axes>"
      ]
     },
     "metadata": {
      "needs_background": "light"
     },
     "output_type": "display_data"
    }
   ],
   "source": [
    "results = sorted(results, key=itemgetter(4), reverse=True)\n",
    "fig, ax = plt.subplots()\n",
    "#ax.set_xscale('log')\n",
    "#ax.set_yscale('log')\n",
    "plt.scatter([result[4] for result in results], [result[7] for result in results])\n",
    "plt.xlabel(r'Size of market, i.e. total number of $i, v_i(S)$ pairs')\n",
    "plt.ylabel('Ratio #EAP/#EA in %')\n",
    "plt.title('Sample efficiency of EAP as a function of the size of LSVM markets')\n",
    "plt.show()"
   ]
  },
  {
   "cell_type": "code",
   "execution_count": 9,
   "metadata": {},
   "outputs": [
    {
     "name": "stdout",
     "output_type": "stream",
     "text": [
      "0.125 $524,487 \\pm 1,123.29$ & $409,901 \\pm 39,475.80$ &$0.0888 \\pm 0.0005$ \n",
      "0.25 $131,122 \\pm 280.82$ & $103,076 \\pm 9,911.05$ &$0.1776 \\pm 0.0010$ \n",
      "0.5 $32,780 \\pm 70.21$ & $25,988 \\pm 2,497.34$ &$0.3559 \\pm 0.0020$ \n",
      "1.0 $8,195 \\pm 17.55$ & $6,561 \\pm 630.28$ &$0.7170 \\pm 0.0038$ \n"
     ]
    }
   ],
   "source": [
    "def compute_conf_interval(sample, confidence_level = 0.95):\n",
    "    degrees_freedom = len(sample) - 1\n",
    "    sample_mean = np.mean(sample)\n",
    "    sample_standard_error = scipy.stats.sem(sample)\n",
    "    lb, ub = scipy.stats.t.interval(confidence_level, degrees_freedom, sample_mean, sample_standard_error)\n",
    "\n",
    "    return sample_mean, lb, ub, (ub - lb)/2\n",
    "\n",
    "confidence = 0.95\n",
    "for eps in ['0.125', '0.25', '0.5', '1.0']:\n",
    "    #data = [compare_ea_eap(f\"../experiments/GSVM/{e}/worlds_results/world{i}/eps_{eps}/\", i) for i in range(0, 30) for e in [0, 1]]\n",
    "    data = [compare_ea_eap(f\"../experiments/LSVM/{e}/worlds_results/world{i}/eps_{eps}/\", i) for i in range(0, 11) for e in [0, 1]]\n",
    "    eps_eap = [data[3] for data in data]\n",
    "    num_samples_eap = [data[6] for data in data]\n",
    "    size_of_market = [compute_n(int(data[1]), float(data[2]), float(eps), int(data[4])) * int(data[4]) for data in data]\n",
    "    mean_eap_eps, lb_eap_eps, ub_eap_eps, width_ci_eap_eps = compute_conf_interval(eps_eap, confidence)\n",
    "    mean_eap, lb_eap, ub_eap, width_ci_eap = compute_conf_interval(num_samples_eap, confidence)\n",
    "    mean_ea, lb_ea, ub_ea, width_ci_ea = compute_conf_interval(size_of_market, confidence)\n",
    "    print(f\"{eps} \", end='')\n",
    "    print(f\"${mean_ea / 1000 :,.0f} \\pm {width_ci_ea / 1000 :,.2f}$ & \", end='')\n",
    "    print(f\"${mean_eap / 1000 :,.0f} \\pm {width_ci_eap / 1000 :,.2f}$ &\", end='')\n",
    "    print(f\"${mean_eap_eps :.4f} \\pm {width_ci_eap_eps :.4f}$ \")\n"
   ]
  },
  {
   "cell_type": "code",
   "execution_count": 10,
   "metadata": {
    "scrolled": true
   },
   "outputs": [
    {
     "name": "stdout",
     "output_type": "stream",
     "text": [
      "+-------+---+-------+---------+----------------+--------------+--------------+----------+\n",
      "| world | c | delta | epsilon | size_of_market |           ea |          eap |  ratio   |\n",
      "+-------+---+-------+---------+----------------+--------------+--------------+----------+\n",
      "|   7   | 2 |  0.1  |  0.1697 |     263,168    |  282,727,969 |   49,451,598 |  17.4909 |\n",
      "|   9   | 2 |  0.1  |  0.1777 |     263,424    |  258,244,209 |   99,111,214 |  38.3789 |\n",
      "|   3   | 2 |  0.1  |  0.1763 |     263,616    |  262,660,452 |   84,453,510 |  32.1531 |\n",
      "|   4   | 2 |  0.1  |  0.1761 |     263,616    |  263,163,147 |   82,976,042 |  31.5303 |\n",
      "|   6   | 2 |  0.1  |  0.1779 |     263,616    |  257,785,820 |  101,990,524 |  39.5641 |\n",
      "|   2   | 2 |  0.1  |  0.1784 |     263,680    |  256,368,097 |  108,547,314 |  42.3404 |\n",
      "|   3   | 2 |  0.1  |  0.1777 |     263,808    |  258,640,254 |   99,407,416 |  38.4346 |\n",
      "|   8   | 2 |  0.1  |  0.1781 |     263,808    |  257,600,262 |  103,608,498 |  40.2206 |\n",
      "|   9   | 2 |  0.1  |  0.1774 |     263,872    |  259,507,830 |   96,173,077 |  37.0598 |\n",
      "|   10  | 2 |  0.1  |  0.1772 |     264,192    |  260,495,413 |   93,751,480 |  35.9897 |\n",
      "|   8   | 2 |  0.1  |  0.1804 |     264,448    |  251,732,974 |  139,346,230 |  55.3548 |\n",
      "|   0   | 2 |  0.1  |  0.1754 |     264,576    |  266,135,657 |   77,724,150 |  29.2047 |\n",
      "|   0   | 2 |  0.1  |  0.1765 |     264,832    |  263,095,501 |   87,253,743 |  33.1643 |\n",
      "|   2   | 2 |  0.1  |  0.1789 |     264,832    |  256,158,918 |  115,563,136 |  45.1138 |\n",
      "|   1   | 2 |  0.1  |  0.1778 |     264,960    |  259,491,926 |  100,883,201 |  38.8772 |\n",
      "|   1   | 2 |  0.1  |  0.1797 |     265,024    |  254,204,161 |  127,446,440 |  50.1355 |\n",
      "|   5   | 2 |  0.1  |  0.1763 |     265,536    |  264,709,592 |   85,542,216 |  32.3155 |\n",
      "|   10  | 2 |  0.1  |  0.1784 |     265,536    |  258,530,270 |  109,001,528 |  42.1620 |\n",
      "|   6   | 2 |  0.1  |  0.1787 |     265,856    |  257,985,245 |  113,116,892 |  43.8463 |\n",
      "|   7   | 2 |  0.1  |  0.1789 |     265,856    |  257,177,619 |  117,318,756 |  45.6178 |\n",
      "|   4   | 2 |  0.1  |  0.1790 |     266,112    |  257,128,483 |  118,895,160 |  46.2396 |\n",
      "|   5   | 2 |  0.1  |  0.1810 |     268,288    |  253,670,546 |  156,105,508 |  61.5387 |\n",
      "+-------+---+-------+---------+----------------+--------------+--------------+----------+\n"
     ]
    }
   ],
   "source": [
    "eps = 0.25\n",
    "data = [compare_ea_eap(f\"../experiments/LSVM/{e}/worlds_results/world{i}/eps_{eps}/\", i) \n",
    "                               for i in range(0, 11) for e in [0, 1]]\n",
    "print(construct_ea_eap_ptable(data, 4))"
   ]
  }
 ],
 "metadata": {
  "kernelspec": {
   "display_name": "Python 3",
   "language": "python",
   "name": "python3"
  },
  "language_info": {
   "codemirror_mode": {
    "name": "ipython",
    "version": 3
   },
   "file_extension": ".py",
   "mimetype": "text/x-python",
   "name": "python",
   "nbconvert_exporter": "python",
   "pygments_lexer": "ipython3",
   "version": "3.8.5"
  }
 },
 "nbformat": 4,
 "nbformat_minor": 4
}
