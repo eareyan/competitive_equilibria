{
 "cells": [
  {
   "cell_type": "code",
   "execution_count": 1,
   "metadata": {},
   "outputs": [],
   "source": [
    "import os\n",
    "import scipy.stats\n",
    "import pandas as pd\n",
    "import numpy as np\n",
    "import math\n",
    "from prettytable import PrettyTable\n",
    "from operator import itemgetter\n",
    "import matplotlib.pyplot as plt"
   ]
  },
  {
   "cell_type": "markdown",
   "metadata": {},
   "source": [
    "## Computing number of samples as a function of epsilon and the other way around"
   ]
  },
  {
   "cell_type": "code",
   "execution_count": 2,
   "metadata": {},
   "outputs": [],
   "source": [
    "def compute_n(c, delta, epsilon, size_of_market):\n",
    "    return (c / epsilon) * (c / epsilon) * 0.5 * math.log((2 * size_of_market) / delta)"
   ]
  },
  {
   "cell_type": "code",
   "execution_count": 3,
   "metadata": {},
   "outputs": [],
   "source": [
    "def compute_eps(c, delta, size_of_market, number_of_samples):\n",
    "    return c * math.sqrt((math.log((2.0 * size_of_market) / delta)) / (2.0 * number_of_samples))"
   ]
  },
  {
   "cell_type": "code",
   "execution_count": 4,
   "metadata": {},
   "outputs": [
    {
     "name": "stdout",
     "output_type": "stream",
     "text": [
      "10.0 [2303, 4606, 9213, 18427]\n",
      "5.0 [9213, 18427, 36855, 73711]\n",
      "2.5 [36855, 73711, 147423, 294846]\n",
      "1.25 [147423, 294846, 589692, 1179384]\n"
     ]
    }
   ],
   "source": [
    "#candidate_eps = [0.125, 0.25, 0.5, 1.0]\n",
    "candidate_eps = [10.0 / (2 ** i) for i in range(0, 4)]\n",
    "for eps in candidate_eps:\n",
    "    m_eps = compute_n(402, 0.1, eps, 4480)\n",
    "    print(eps, [int(m_eps /4) , int(m_eps / 2), int(m_eps), int(2 * m_eps)])"
   ]
  },
  {
   "cell_type": "markdown",
   "metadata": {},
   "source": [
    "### Testing eps to n and n to eps functions"
   ]
  },
  {
   "cell_type": "code",
   "execution_count": 5,
   "metadata": {},
   "outputs": [],
   "source": [
    "c = 2\n",
    "delta = 0.1\n",
    "epsilon = 1.0\n",
    "size_of_market = 4480\n",
    "n = compute_n(c, delta, epsilon, size_of_market)\n",
    "assert epsilon == compute_eps(c, delta, size_of_market, n)\n",
    "assert n == compute_n(c, delta, epsilon, size_of_market)"
   ]
  },
  {
   "cell_type": "markdown",
   "metadata": {},
   "source": [
    "## Compute Statistics from LSVM worlds"
   ]
  },
  {
   "cell_type": "code",
   "execution_count": 6,
   "metadata": {},
   "outputs": [],
   "source": [
    "def compare_ea_eap(loc, world_number, epsilon):\n",
    "    # Read EAP data.\n",
    "    bidders_final_values_df = pd.read_csv(f\"{loc}bidders_final_values.csv\")\n",
    "    eap_samples = bidders_final_values_df['n'].sum()\n",
    "    \n",
    "    # Compute EA data.\n",
    "    bidders_summary_df = pd.read_csv(f\"{loc}bidders_summary.csv\")\n",
    "    params_csv = pd.read_csv(f\"{loc}params.csv\")\n",
    "    c, delta, eps_eap = int(params_csv.iloc[3]['value']), sum(eval(params_csv.iloc[1]['value'])), float(params_csv.iloc[6]['value'])\n",
    "    size_of_market = sum([2 ** len(eval(row[2])) for row in bidders_summary_df.itertuples()])\n",
    "    ea_samples = compute_n(c, delta, epsilon, size_of_market) * size_of_market\n",
    "    \n",
    "    # Make sure that the epsilon given as parameters coincides with the epsilon actually needed by EA. \n",
    "    assert math.isclose(epsilon, compute_eps(c, delta, size_of_market, ea_samples / size_of_market))\n",
    "    \n",
    "    return [world_number, \n",
    "            c, \n",
    "            delta, \n",
    "            epsilon, \n",
    "            eps_eap, \n",
    "            size_of_market,\n",
    "            ea_samples, \n",
    "            eap_samples,\n",
    "            (eap_samples / ea_samples) * 100.0]"
   ]
  },
  {
   "cell_type": "code",
   "execution_count": 7,
   "metadata": {
    "scrolled": true
   },
   "outputs": [],
   "source": [
    "def construct_ea_eap_ptable(results, sort_key=7):\n",
    "    # Sort by desired key\n",
    "    results = sorted(results, key=itemgetter(sort_key))\n",
    "    # Construct ptable\n",
    "    results_ptable = PrettyTable()\n",
    "    results_ptable.field_names = ['world', 'c', 'delta', 'epsilon', 'eap_epsilon', 'size_of_market', 'ea', 'eap', 'ratio']\n",
    "    results_ptable.align[\"ea\"] = \"r\"\n",
    "    results_ptable.align[\"eap\"] = \"r\"\n",
    "\n",
    "    for r in results:\n",
    "        results_ptable.add_row([r[0], \n",
    "                                r[1], \n",
    "                                r[2], \n",
    "                                f\"{r[3] : .4f}\", \n",
    "                                f\"{r[4] : .4f}\", \n",
    "                                f\"{r[5] : ,}\", \n",
    "                                f\"{r[6] : ,.0f}\", \n",
    "                                f\"{r[7] : ,.0f}\", \n",
    "                                f\"{r[8] : .4f}\"])\n",
    "    return results_ptable\n",
    "\n",
    "#Collect results from all experiments. \n",
    "# results_dir = '../experiments/LSVM/'\n",
    "# results = []\n",
    "# for e in [0, 1]:\n",
    "#     for i in range(0, 11):\n",
    "#         loc = f\"{results_dir}{e}/worlds_results/world{i}/eps_0.125/\"\n",
    "#         results += [compare_ea_eap(loc, i)]\n",
    "# print(construct_ea_eap_ptable(results))"
   ]
  },
  {
   "cell_type": "markdown",
   "metadata": {},
   "source": [
    "## Table Data"
   ]
  },
  {
   "cell_type": "code",
   "execution_count": 8,
   "metadata": {},
   "outputs": [
    {
     "name": "stdout",
     "output_type": "stream",
     "text": [
      "0.125 $524,487 \\pm 1,123.29$ & $409,901 \\pm 39,475.80$ &$0.0888 \\pm 0.0005$ \n",
      "0.25 $131,122 \\pm 280.82$ & $103,076 \\pm 9,911.05$ &$0.1776 \\pm 0.0010$ \n",
      "0.5 $32,780 \\pm 70.21$ & $25,988 \\pm 2,497.34$ &$0.3559 \\pm 0.0020$ \n",
      "1.0 $8,195 \\pm 17.55$ & $6,561 \\pm 630.28$ &$0.7170 \\pm 0.0038$ \n"
     ]
    }
   ],
   "source": [
    "def compute_conf_interval(sample, confidence_level = 0.95):\n",
    "    degrees_freedom = len(sample) - 1\n",
    "    sample_mean = np.mean(sample)\n",
    "    sample_standard_error = scipy.stats.sem(sample)\n",
    "    lb, ub = scipy.stats.t.interval(confidence_level, degrees_freedom, sample_mean, sample_standard_error)\n",
    "\n",
    "    return sample_mean, lb, ub, (ub - lb)/2\n",
    "\n",
    "confidence = 0.95\n",
    "for eps in ['0.125', '0.25', '0.5', '1.0']:\n",
    "    #data = [compare_ea_eap(f\"../experiments/GSVM/{e}/worlds_results/world{i}/eps_{eps}/\", i, float(eps)) for i in range(0, 30) for e in [0, 1]]\n",
    "    data = [compare_ea_eap(f\"../experiments/LSVM/{e}/worlds_results/world{i}/eps_{eps}/\", i, float(eps)) for i in range(0, 11) for e in [0, 1]]\n",
    "    eps_eap = [data[4] for data in data]\n",
    "    num_samples_eap = [data[7] for data in data]\n",
    "    size_of_market = [compute_n(c=int(data[1]),\n",
    "                                delta=float(data[2]), \n",
    "                                epsilon=float(eps), \n",
    "                                size_of_market = int(data[5])) * int(data[5]) for data in data]\n",
    "    \n",
    "    # Compute confidence intervals. \n",
    "    mean_eap_eps, lb_eap_eps, ub_eap_eps, width_ci_eap_eps = compute_conf_interval(eps_eap, confidence)\n",
    "    mean_eap, lb_eap, ub_eap, width_ci_eap = compute_conf_interval(num_samples_eap, confidence)\n",
    "    mean_ea, lb_ea, ub_ea, width_ci_ea = compute_conf_interval(size_of_market, confidence)\n",
    "    \n",
    "    # Prints. \n",
    "    print(f\"{eps} \", end='')\n",
    "    print(f\"${mean_ea / 1000 :,.0f} \\pm {width_ci_ea / 1000 :,.2f}$ & \", end='')\n",
    "    print(f\"${mean_eap / 1000 :,.0f} \\pm {width_ci_eap / 1000 :,.2f}$ &\", end='')\n",
    "    print(f\"${mean_eap_eps :.4f} \\pm {width_ci_eap_eps :.4f}$ \")\n"
   ]
  },
  {
   "cell_type": "code",
   "execution_count": 9,
   "metadata": {
    "scrolled": true
   },
   "outputs": [
    {
     "name": "stdout",
     "output_type": "stream",
     "text": [
      "+-------+---+-------+---------+-------------+----------------+--------------+--------------+-----------+\n",
      "| world | c | delta | epsilon | eap_epsilon | size_of_market |           ea |          eap |   ratio   |\n",
      "+-------+---+-------+---------+-------------+----------------+--------------+--------------+-----------+\n",
      "|   7   | 2 |  0.1  |  0.2500 |    0.1697   |     263,168    |  130,331,574 |   49,451,598 |   37.9429 |\n",
      "|   0   | 2 |  0.1  |  0.2500 |    0.1754   |     264,576    |  131,074,050 |   77,724,150 |   59.2979 |\n",
      "|   4   | 2 |  0.1  |  0.2500 |    0.1761   |     263,616    |  130,567,790 |   82,976,042 |   63.5502 |\n",
      "|   5   | 2 |  0.1  |  0.2500 |    0.1763   |     265,536    |  131,580,421 |   85,542,216 |   65.0114 |\n",
      "|   3   | 2 |  0.1  |  0.2500 |    0.1763   |     263,616    |  130,567,790 |   84,453,510 |   64.6817 |\n",
      "|   0   | 2 |  0.1  |  0.2500 |    0.1765   |     264,832    |  131,209,071 |   87,253,743 |   66.4998 |\n",
      "|   10  | 2 |  0.1  |  0.2500 |    0.1772   |     264,192    |  130,871,533 |   93,751,480 |   71.6363 |\n",
      "|   9   | 2 |  0.1  |  0.2500 |    0.1774   |     263,872    |  130,702,782 |   96,173,077 |   73.5815 |\n",
      "|   9   | 2 |  0.1  |  0.2500 |    0.1777   |     263,424    |  130,466,552 |   99,111,214 |   75.9668 |\n",
      "|   3   | 2 |  0.1  |  0.2500 |    0.1777   |     263,808    |  130,669,033 |   99,407,416 |   76.0757 |\n",
      "|   1   | 2 |  0.1  |  0.2500 |    0.1778   |     264,960    |  131,276,585 |  100,883,201 |   76.8478 |\n",
      "|   6   | 2 |  0.1  |  0.2500 |    0.1779   |     263,616    |  130,567,790 |  101,990,524 |   78.1131 |\n",
      "|   8   | 2 |  0.1  |  0.2500 |    0.1781   |     263,808    |  130,669,033 |  103,608,498 |   79.2908 |\n",
      "|   10  | 2 |  0.1  |  0.2500 |    0.1784   |     265,536    |  131,580,421 |  109,001,528 |   82.8402 |\n",
      "|   2   | 2 |  0.1  |  0.2500 |    0.1784   |     263,680    |  130,601,538 |  108,547,314 |   83.1134 |\n",
      "|   6   | 2 |  0.1  |  0.2500 |    0.1787   |     265,856    |  131,749,236 |  113,116,892 |   85.8577 |\n",
      "|   2   | 2 |  0.1  |  0.2500 |    0.1789   |     264,832    |  131,209,071 |  115,563,136 |   88.0756 |\n",
      "|   7   | 2 |  0.1  |  0.2500 |    0.1789   |     265,856    |  131,749,236 |  117,318,756 |   89.0470 |\n",
      "|   4   | 2 |  0.1  |  0.2500 |    0.1790   |     266,112    |  131,884,297 |  118,895,160 |   90.1511 |\n",
      "|   1   | 2 |  0.1  |  0.2500 |    0.1797   |     265,024    |  131,310,343 |  127,446,440 |   97.0574 |\n",
      "|   8   | 2 |  0.1  |  0.2500 |    0.1804   |     264,448    |  131,006,542 |  139,346,230 |  106.3659 |\n",
      "|   5   | 2 |  0.1  |  0.2500 |    0.1810   |     268,288    |  133,032,632 |  156,105,508 |  117.3438 |\n",
      "+-------+---+-------+---------+-------------+----------------+--------------+--------------+-----------+\n"
     ]
    }
   ],
   "source": [
    "eps = 0.25\n",
    "data = [compare_ea_eap(f\"../experiments/LSVM/{e}/worlds_results/world{i}/eps_{eps}/\", i, eps) \n",
    "                               for i in range(0, 11) for e in [0, 1]]\n",
    "print(construct_ea_eap_ptable(data, 4))"
   ]
  },
  {
   "cell_type": "markdown",
   "metadata": {},
   "source": [
    "## A few samples of EA vs EAP on GSVM with schedule given by eps = [10.0, 5.0, 2.5, 1.25]"
   ]
  },
  {
   "cell_type": "code",
   "execution_count": 10,
   "metadata": {
    "scrolled": true
   },
   "outputs": [
    {
     "name": "stdout",
     "output_type": "stream",
     "text": [
      "+-------+-----+-------+----------+-------------+----------------+-------------+-------------+-----------+\n",
      "| world |  c  | delta | epsilon  | eap_epsilon | size_of_market |          ea |         eap |   ratio   |\n",
      "+-------+-----+-------+----------+-------------+----------------+-------------+-------------+-----------+\n",
      "|   0   | 402 |  0.1  |  10.0000 |    7.2405   |      4,480     |  41,278,458 |  57,007,145 |  138.1039 |\n",
      "|   0   | 402 |  0.1  |  10.0000 |    7.3538   |      4,480     |  41,278,458 |  67,349,860 |  163.1598 |\n",
      "+-------+-----+-------+----------+-------------+----------------+-------------+-------------+-----------+\n"
     ]
    }
   ],
   "source": [
    "print(construct_ea_eap_ptable([compare_ea_eap(f\"../value_models/GSVM/develop/4/worlds_results/world0/eps_10.0/\", 0, 10.0),\n",
    "                              compare_ea_eap(f\"../value_models/GSVM/develop/0/worlds_results/world0/eps_10.0/\", 0, 10.0)]))"
   ]
  },
  {
   "cell_type": "code",
   "execution_count": 11,
   "metadata": {},
   "outputs": [
    {
     "name": "stdout",
     "output_type": "stream",
     "text": [
      "+-------+-----+-------+---------+-------------+----------------+--------------+--------------+----------+\n",
      "| world |  c  | delta | epsilon | eap_epsilon | size_of_market |           ea |          eap |  ratio   |\n",
      "+-------+-----+-------+---------+-------------+----------------+--------------+--------------+----------+\n",
      "|   0   | 402 |  0.1  |  5.0000 |    3.3294   |      4,480     |  165,113,830 |   84,616,896 |  51.2476 |\n",
      "|   0   | 402 |  0.1  |  5.0000 |    3.4148   |      4,480     |  165,113,830 |  119,519,528 |  72.3861 |\n",
      "+-------+-----+-------+---------+-------------+----------------+--------------+--------------+----------+\n"
     ]
    }
   ],
   "source": [
    "print(construct_ea_eap_ptable([compare_ea_eap(f\"../value_models/GSVM/develop/2/worlds_results/world0/eps_5.0/\", 0, 5.0),\n",
    "                              compare_ea_eap(f\"../value_models/GSVM/develop/0/worlds_results/world0/eps_5.0/\", 0, 5.0)]))"
   ]
  },
  {
   "cell_type": "code",
   "execution_count": 12,
   "metadata": {},
   "outputs": [
    {
     "name": "stdout",
     "output_type": "stream",
     "text": [
      "+-------+-----+-------+---------+-------------+----------------+--------------+--------------+----------+\n",
      "| world |  c  | delta | epsilon | eap_epsilon | size_of_market |           ea |          eap |  ratio   |\n",
      "+-------+-----+-------+---------+-------------+----------------+--------------+--------------+----------+\n",
      "|   0   | 402 |  0.1  |  2.5000 |    1.4917   |      4,480     |  660,455,321 |  193,784,326 |  29.3410 |\n",
      "|   0   | 402 |  0.1  |  2.5000 |    1.5658   |      4,480     |  660,455,321 |  205,430,768 |  31.1044 |\n",
      "+-------+-----+-------+---------+-------------+----------------+--------------+--------------+----------+\n"
     ]
    }
   ],
   "source": [
    "print(construct_ea_eap_ptable([compare_ea_eap(f\"../value_models/GSVM/develop/1/worlds_results/world0/eps_2.5/\", 0, 2.5),\n",
    "                              compare_ea_eap(f\"../value_models/GSVM/develop/0/worlds_results/world0/eps_2.5/\", 0, 2.5)]))"
   ]
  },
  {
   "cell_type": "code",
   "execution_count": 13,
   "metadata": {},
   "outputs": [
    {
     "name": "stdout",
     "output_type": "stream",
     "text": [
      "+-------+-----+-------+---------+-------------+----------------+----------------+--------------+----------+\n",
      "| world |  c  | delta | epsilon | eap_epsilon | size_of_market |             ea |          eap |  ratio   |\n",
      "+-------+-----+-------+---------+-------------+----------------+----------------+--------------+----------+\n",
      "|   0   | 402 |  0.1  |  1.2500 |    0.7059   |      4,480     |  2,641,821,286 |  687,875,718 |  26.0379 |\n",
      "|   0   | 402 |  0.1  |  1.2500 |    0.7286   |      4,480     |  2,641,821,286 |  721,783,008 |  27.3214 |\n",
      "+-------+-----+-------+---------+-------------+----------------+----------------+--------------+----------+\n"
     ]
    }
   ],
   "source": [
    "print(construct_ea_eap_ptable([compare_ea_eap(f\"../value_models/GSVM/develop/3/worlds_results/world0/eps_1.25/\", 0, 1.25),\n",
    "                              compare_ea_eap(f\"../value_models/GSVM/develop/0/worlds_results/world0/eps_1.25/\", 0, 1.25)]))"
   ]
  }
 ],
 "metadata": {
  "kernelspec": {
   "display_name": "Python 3",
   "language": "python",
   "name": "python3"
  },
  "language_info": {
   "codemirror_mode": {
    "name": "ipython",
    "version": 3
   },
   "file_extension": ".py",
   "mimetype": "text/x-python",
   "name": "python",
   "nbconvert_exporter": "python",
   "pygments_lexer": "ipython3",
   "version": "3.8.5"
  }
 },
 "nbformat": 4,
 "nbformat_minor": 4
}
