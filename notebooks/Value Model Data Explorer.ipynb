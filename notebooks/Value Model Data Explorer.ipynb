{
 "cells": [
  {
   "cell_type": "code",
   "execution_count": 1,
   "metadata": {},
   "outputs": [],
   "source": [
    "import os\n",
    "import scipy.stats\n",
    "import pandas as pd\n",
    "import numpy as np\n",
    "import math\n",
    "import pprint\n",
    "import zipfile\n",
    "import json\n",
    "from prettytable import PrettyTable\n",
    "from operator import itemgetter\n",
    "import matplotlib.pyplot as plt"
   ]
  },
  {
   "cell_type": "markdown",
   "metadata": {},
   "source": [
    "## Computing number of samples as a function of epsilon and the other way around"
   ]
  },
  {
   "cell_type": "code",
   "execution_count": 2,
   "metadata": {},
   "outputs": [],
   "source": [
    "def compute_n(c, delta, epsilon, size_of_market):\n",
    "    return (c / epsilon) * (c / epsilon) * 0.5 * math.log((2 * size_of_market) / delta)"
   ]
  },
  {
   "cell_type": "code",
   "execution_count": 3,
   "metadata": {},
   "outputs": [],
   "source": [
    "def compute_eps(c, delta, size_of_market, number_of_samples):\n",
    "    return c * math.sqrt((math.log((2.0 * size_of_market) / delta)) / (2.0 * number_of_samples))"
   ]
  },
  {
   "cell_type": "code",
   "execution_count": 4,
   "metadata": {},
   "outputs": [
    {
     "name": "stdout",
     "output_type": "stream",
     "text": [
      "10.0 \t [2303, 4606, 9213, 18427]\n",
      "5.0 \t [9213, 18427, 36855, 73711]\n",
      "2.5 \t [36855, 73711, 147423, 294846]\n",
      "1.25 \t [147423, 294846, 589692, 1179384]\n"
     ]
    }
   ],
   "source": [
    "candidate_eps = [10.0 / (2 ** i) for i in range(0, 4)]\n",
    "for eps in candidate_eps:\n",
    "    m_eps = compute_n(402, 0.1, eps, 4480)\n",
    "    print(f\"{eps} \\t {[int(m_eps /4) , int(m_eps / 2), int(m_eps), int(2 * m_eps)]}\")"
   ]
  },
  {
   "cell_type": "markdown",
   "metadata": {},
   "source": [
    "### Testing eps to n and n to eps functions"
   ]
  },
  {
   "cell_type": "code",
   "execution_count": 5,
   "metadata": {},
   "outputs": [],
   "source": [
    "c = 2\n",
    "delta = 0.1\n",
    "epsilon = 1.0\n",
    "size_of_market = 4480\n",
    "n = compute_n(c, delta, epsilon, size_of_market)\n",
    "assert epsilon == compute_eps(c, delta, size_of_market, n)\n",
    "assert n == compute_n(c, delta, epsilon, size_of_market)"
   ]
  },
  {
   "cell_type": "markdown",
   "metadata": {},
   "source": [
    "## Compute Statistics from LSVM worlds"
   ]
  },
  {
   "cell_type": "code",
   "execution_count": 6,
   "metadata": {},
   "outputs": [],
   "source": [
    "def read_json_from_zip(json_world_loc):\n",
    "    \"\"\"\n",
    "    Reads a JSON file from a zip file.\n",
    "    \"\"\"\n",
    "    with zipfile.ZipFile(json_world_loc, \"r\") as z:\n",
    "        for filename in z.namelist():\n",
    "            with z.open(filename) as f:\n",
    "                data = json.loads(f.read().decode(\"utf-8\"))\n",
    "    return data"
   ]
  },
  {
   "cell_type": "code",
   "execution_count": 7,
   "metadata": {},
   "outputs": [],
   "source": [
    "def compare_ea_eap(model_type, world_number, epsilon):\n",
    "\n",
    "    # Location of the results. \n",
    "    loc = f\"../value_models_experiments/{model_type}/worlds_results/world{world_number}/eps_{eps}/\"\n",
    "    \n",
    "    # Read EAP data.\n",
    "    bidders_final_values_df = pd.read_csv(f\"{loc}bidders_final_values.csv\")\n",
    "    eap_samples = bidders_final_values_df['n'].sum()\n",
    "    \n",
    "    # Compute EA data.\n",
    "    bidders_summary_df = pd.DataFrame([(int(data['id']), str(data['preferred_licences'])) \n",
    "                                       for data in read_json_from_zip(f\"../value_models_experiments/{model_type}/worlds/world{world_number}.zip\")['bidder_values']],\n",
    "                                      columns = ['bidder', 'preferred_licences'])\n",
    "\n",
    "    params_csv = pd.read_csv(f\"{loc}params.csv\")\n",
    "    c, delta, eps_eap = int(params_csv.iloc[3]['value']), sum(eval(params_csv.iloc[1]['value'])), float(params_csv.iloc[6]['value'])\n",
    "    size_of_market = sum([2 ** len(eval(row[2])) for row in bidders_summary_df.itertuples()])\n",
    "    ea_samples = compute_n(c, delta, epsilon, size_of_market) * size_of_market\n",
    "    \n",
    "    # Make sure that the epsilon given as parameters coincides with the epsilon actually needed by EA. \n",
    "    assert math.isclose(epsilon, compute_eps(c, delta, size_of_market, ea_samples / size_of_market))\n",
    "    \n",
    "    return [world_number, \n",
    "            c, \n",
    "            delta, \n",
    "            epsilon, \n",
    "            eps_eap, \n",
    "            size_of_market,\n",
    "            ea_samples, \n",
    "            eap_samples,\n",
    "            (eap_samples / ea_samples) * 100.0]"
   ]
  },
  {
   "cell_type": "code",
   "execution_count": 8,
   "metadata": {
    "scrolled": true
   },
   "outputs": [],
   "source": [
    "def construct_ea_eap_ptable(results, sort_key=7):\n",
    "    # Sort by desired key\n",
    "    results = sorted(results, key=itemgetter(sort_key))\n",
    "    # Construct ptable\n",
    "    results_ptable = PrettyTable()\n",
    "    results_ptable.field_names = ['world', 'c', 'delta', 'epsilon', 'eap_epsilon', 'size_of_market', 'ea', 'eap', 'ratio']\n",
    "    results_ptable.align[\"ea\"] = \"r\"\n",
    "    results_ptable.align[\"eap\"] = \"r\"\n",
    "\n",
    "    for r in results:\n",
    "        results_ptable.add_row([r[0], \n",
    "                                r[1], \n",
    "                                r[2], \n",
    "                                f\"{r[3] : .4f}\", \n",
    "                                f\"{r[4] : .4f}\", \n",
    "                                f\"{r[5] : ,}\", \n",
    "                                f\"{r[6] : ,.0f}\", \n",
    "                                f\"{r[7] : ,.0f}\", \n",
    "                                f\"{r[8] : .4f}\"])\n",
    "    return results_ptable"
   ]
  },
  {
   "cell_type": "code",
   "execution_count": 9,
   "metadata": {},
   "outputs": [],
   "source": [
    "def compute_conf_interval(sample, confidence_level = 0.95):\n",
    "    degrees_freedom = len(sample) - 1\n",
    "    sample_mean = np.mean(sample)\n",
    "    sample_standard_error = scipy.stats.sem(sample)\n",
    "    lb, ub = scipy.stats.t.interval(confidence_level, degrees_freedom, sample_mean, sample_standard_error)\n",
    "\n",
    "    return sample_mean, lb, ub, (ub - lb)/2"
   ]
  },
  {
   "cell_type": "markdown",
   "metadata": {},
   "source": [
    "## Table Data"
   ]
  },
  {
   "cell_type": "code",
   "execution_count": 10,
   "metadata": {},
   "outputs": [
    {
     "name": "stdout",
     "output_type": "stream",
     "text": [
      "GSVM\n"
     ]
    },
    {
     "name": "stderr",
     "output_type": "stream",
     "text": [
      "/Users/enriqueareyan/Documents/workspace/competitive_equilibria/venv/lib/python3.8/site-packages/scipy/stats/_distn_infrastructure.py:2023: RuntimeWarning: invalid value encountered in multiply\n",
      "  lower_bound = _a * scale + loc\n",
      "/Users/enriqueareyan/Documents/workspace/competitive_equilibria/venv/lib/python3.8/site-packages/scipy/stats/_distn_infrastructure.py:2024: RuntimeWarning: invalid value encountered in multiply\n",
      "  upper_bound = _b * scale + loc\n"
     ]
    },
    {
     "name": "stdout",
     "output_type": "stream",
     "text": [
      "& $2,642 \\pm nan$ & ${\\bf 720 \\pm 10}$ &$0.73 \\pm 0.01$ \n",
      "& $660 \\pm nan$ & ${\\bf 226 \\pm 10}$ &$1.57 \\pm 0.02$ \n",
      "& $165 \\pm nan$ & ${\\bf 117 \\pm 11}$ &$3.41 \\pm 0.03$ \n",
      "& ${\\bf 41 \\pm nan}$ & $69 \\pm 4$ &$7.36 \\pm 0.04$ \n",
      "\\\\\n"
     ]
    }
   ],
   "source": [
    "# Note: GSVM has fixed market sizes, hence, EA has a deterministic number of samples, hence, width of CI is zero. \n",
    "configurations = {\n",
    "    'GSVM' :  {'samples' : range(0, 40)} ,\n",
    "    'LSVM' :  {'samples' : range(0, 50)} ,\n",
    "                 }\n",
    "epsilons = [1.25, 2.5, 5.0, 10.0]\n",
    "\n",
    "# Parameters for the table. \n",
    "domain = 'GSVM'\n",
    "with_ci = True\n",
    "scaling = 1000000\n",
    "    \n",
    "print(f\"{domain}\")\n",
    "for eps in epsilons:\n",
    "    data = [compare_ea_eap(domain, i, float(eps)) \n",
    "            for i in configurations[domain]['samples']]\n",
    "    eps_eap = [data[4] for data in data]\n",
    "    num_samples_eap = [data[7] for data in data]\n",
    "    size_of_market = [compute_n(c=int(data[1]),\n",
    "                                delta=float(data[2]), \n",
    "                                epsilon=float(eps), \n",
    "                                size_of_market = int(data[5])) * int(data[5]) for data in data]\n",
    "    \n",
    "    # Compute confidence intervals. \n",
    "    mean_eap_eps, lb_eap_eps, ub_eap_eps, width_ci_eap_eps = compute_conf_interval(eps_eap)\n",
    "    mean_eap, lb_eap, ub_eap, width_ci_eap = compute_conf_interval(num_samples_eap)\n",
    "    mean_ea, lb_ea, ub_ea, width_ci_ea = compute_conf_interval(size_of_market)\n",
    "    \n",
    "    # Prints. \n",
    "    #print(f\"{eps} \", end='')\n",
    "    if mean_ea < mean_eap:\n",
    "        if not with_ci:\n",
    "            # No confidence intervals\n",
    "            print(f\"& ${{\\\\bf {mean_ea / scaling :,.0f}}}$ \\t & \", end='')\n",
    "            print(f\"${mean_eap / scaling :,.0f}$ \\t& \", end='')\n",
    "            print(f\"${mean_eap_eps :.2f}$ \")\n",
    "        else:\n",
    "            # With confidence intervals\n",
    "            #print(f\"& ${{\\\\bf {mean_ea / scaling :,.0f}}}$ & \", end='')\n",
    "            print(f\"& ${{\\\\bf {mean_ea / scaling :,.0f} \\pm {width_ci_ea / scaling :,.0f}}}$ & \", end='')\n",
    "            print(f\"${mean_eap / scaling :,.0f} \\pm {width_ci_eap / scaling :,.0f}$ &\", end='')\n",
    "            print(f\"${mean_eap_eps :.2f} \\pm {width_ci_eap_eps :.2f}$ \")\n",
    "    else:\n",
    "        if not with_ci:\n",
    "            # No confidence intervals\n",
    "            print(f\"& ${mean_ea / scaling :,.0f}$ \\t & \", end='')\n",
    "            print(f\"${{\\\\bf {mean_eap / scaling :,.0f}}}$  \\t& \", end='')\n",
    "            print(f\"${mean_eap_eps :.2f}$ \")\n",
    "        else:\n",
    "            # With confidence intervals\n",
    "            #print(f\"& ${mean_ea / scaling :,.0f}$ & \", end='')\n",
    "            print(f\"& ${mean_ea / scaling :,.0f} \\pm {width_ci_ea / scaling :,.0f}$ & \", end='')\n",
    "            print(f\"${{\\\\bf {mean_eap / scaling :,.0f} \\pm {width_ci_eap / scaling :,.0f}}}$ &\", end='')\n",
    "            print(f\"${mean_eap_eps :.2f} \\pm {width_ci_eap_eps :.2f}$ \")\n",
    "    \n",
    "print(\"\\\\\\\\\")"
   ]
  },
  {
   "cell_type": "code",
   "execution_count": 11,
   "metadata": {},
   "outputs": [
    {
     "data": {
      "image/png": "[encoded data removed]",
      "text/plain": [
       "<Figure size 180x180 with 2 Axes>"
      ]
     },
     "metadata": {
      "needs_background": "light"
     },
     "output_type": "display_data"
    }
   ],
   "source": [
    "import seaborn as sns\n",
    "import numpy as np\n",
    "import matplotlib.pyplot as plt\n",
    "\n",
    "cmaps = ['Greys', 'Purples', 'Blues', 'Greens', 'Oranges', 'Reds',\n",
    "            'YlOrBr', 'YlOrRd', 'OrRd', 'PuRd', 'RdPu', 'BuPu',\n",
    "            'GnBu', 'PuBu', 'YlGnBu', 'PuBuGn', 'BuGn', 'YlGn']\n",
    "fig, axs = plt.subplots(nrows=1, ncols=1, figsize=(2.5, 2.5))  # Size for only 4 plots, 1 by 4\n",
    "ax = sns.heatmap(np.array([[73, 80],\n",
    "                           [66, 13],\n",
    "                           [29, -4],\n",
    "                           [-67, -44]\n",
    "                          ]), \n",
    "                 annot=True, \n",
    "                 cmap=cmaps[4], \n",
    "                 xticklabels=['GSVM', 'LSVM'],\n",
    "                 yticklabels=[j for j in epsilons],\n",
    "                 vmax=100, # This value is data dependent\n",
    "                 vmin=-100, # This value is data dependent\n",
    "                 ax = axs)\n",
    "ax.set_xlabel('Value Model')\n",
    "ax.set_ylabel(r'$\\epsilon$')\n",
    "#ax.set_title(f'Title')\n",
    "plt.tight_layout()"
   ]
  },
  {
   "cell_type": "markdown",
   "metadata": {},
   "source": [
    "## Inspecting pruning, 1st pass and 2nd pass"
   ]
  },
  {
   "cell_type": "code",
   "execution_count": 12,
   "metadata": {
    "scrolled": true
   },
   "outputs": [],
   "source": [
    "def plot_pruning(domain):\n",
    "    summary_pruning = {}\n",
    "    for eps in epsilons:\n",
    "        #print(f\"\\n{eps}\\n\")\n",
    "        data = pd.concat([pd.read_csv(f\"../value_models_experiments/{domain}/worlds_results/world{i}/eps_{eps}/pruning_evolution_summary.csv\") for i in configurations[domain]['samples']])\n",
    "        summary_pruning[eps] = {}\n",
    "        for num_pass in [0, 1, 2]:\n",
    "            #print(f\"\\n\\t{num_pass} \\n\")\n",
    "            first_pass = data[data['end_of_iteration'] == num_pass]['pruned_1st_pass']\n",
    "            secon_pass = data[data['end_of_iteration'] == num_pass]['pruned_2nd_pass']\n",
    "            #print(first_pass)\n",
    "            mean_first, lb_first, ub_first, width_first = compute_conf_interval(first_pass)\n",
    "            if math.isnan(width_first):\n",
    "                width_first = 0\n",
    "\n",
    "            #print(secon_pass)\n",
    "            mean_secon, lb_secon, ub_secon, width_secon = compute_conf_interval(secon_pass)\n",
    "            if math.isnan(width_secon):\n",
    "                width_secon = 0\n",
    "            summary_pruning[eps][num_pass] = {'mean_first' : mean_first, \n",
    "                                              'width_first': width_first,\n",
    "                                              'mean_secon' : mean_secon,\n",
    "                                              'width_secon' : width_secon}\n",
    "        #pprint.pprint(summary)\n",
    "\n",
    "    bar_width = 0.25\n",
    "    colors = {1.25: 'blue', 2.5: 'green', 5.0 : 'orange', 10.0 : 'black'}\n",
    "    fig, ax = plt.subplots()\n",
    "    for i, eps in enumerate(epsilons):\n",
    "        summary = summary_pruning[eps]\n",
    "        t = i\n",
    "        j = 0\n",
    "        the_alpha = 1.0\n",
    "        for num_pass in [0, 1, 2]:\n",
    "            plt.bar(x=[i + t + j, i + bar_width + t + j], \n",
    "                    height=[summary[num_pass]['mean_first'], summary[num_pass]['mean_secon']], \n",
    "                    yerr=[summary[num_pass]['width_first'], summary[num_pass]['width_secon']],\n",
    "                    width=bar_width,\n",
    "                    label=f'{eps}',\n",
    "                    color=colors[eps],\n",
    "                    alpha=the_alpha)\n",
    "            t += bar_width\n",
    "            j += bar_width\n",
    "            the_alpha -= 0.4\n",
    "\n",
    "    ax.set_xticks([bar_width, 2 + bar_width, 4 + bar_width, 6 + bar_width])\n",
    "    ax.set_xticklabels(epsilons)\n",
    "    ax.set_yscale('log')\n",
    "    ax.set_ylim(bottom=1.0, top=10 ** 6)\n",
    "    ax.set_xlabel(f'$\\epsilon$')\n",
    "    plt.title(f'{domain}')\n",
    "    plt.rcParams.update({'font.size': 14})\n",
    "    #plt.legend()\n"
   ]
  },
  {
   "cell_type": "code",
   "execution_count": 13,
   "metadata": {},
   "outputs": [
    {
     "name": "stderr",
     "output_type": "stream",
     "text": [
      "/Users/enriqueareyan/Documents/workspace/competitive_equilibria/venv/lib/python3.8/site-packages/scipy/stats/_distn_infrastructure.py:2023: RuntimeWarning: invalid value encountered in multiply\n",
      "  lower_bound = _a * scale + loc\n",
      "/Users/enriqueareyan/Documents/workspace/competitive_equilibria/venv/lib/python3.8/site-packages/scipy/stats/_distn_infrastructure.py:2024: RuntimeWarning: invalid value encountered in multiply\n",
      "  upper_bound = _b * scale + loc\n"
     ]
    },
    {
     "data": {
      "image/png": "[encoded data removed]",
      "text/plain": [
       "<Figure size 432x288 with 1 Axes>"
      ]
     },
     "metadata": {
      "needs_background": "light"
     },
     "output_type": "display_data"
    }
   ],
   "source": [
    "plot_pruning('GSVM')"
   ]
  },
  {
   "cell_type": "code",
   "execution_count": 14,
   "metadata": {},
   "outputs": [
    {
     "data": {
      "image/png": "[encoded data removed]",
      "text/plain": [
       "<Figure size 432x288 with 1 Axes>"
      ]
     },
     "metadata": {
      "needs_background": "light"
     },
     "output_type": "display_data"
    }
   ],
   "source": [
    "plot_pruning('LSVM')"
   ]
  }
 ],
 "metadata": {
  "kernelspec": {
   "display_name": "Python 3",
   "language": "python",
   "name": "python3"
  },
  "language_info": {
   "codemirror_mode": {
    "name": "ipython",
    "version": 3
   },
   "file_extension": ".py",
   "mimetype": "text/x-python",
   "name": "python",
   "nbconvert_exporter": "python",
   "pygments_lexer": "ipython3",
   "version": "3.8.5"
  }
 },
 "nbformat": 4,
 "nbformat_minor": 4
}
