{
 "cells": [
  {
   "cell_type": "code",
   "execution_count": 1,
   "metadata": {},
   "outputs": [],
   "source": [
    "import pandas as pd\n",
    "import itertools as it"
   ]
  },
  {
   "cell_type": "code",
   "execution_count": 2,
   "metadata": {},
   "outputs": [
    {
     "data": {
      "text/plain": [
       "0"
      ]
     },
     "execution_count": 2,
     "metadata": {},
     "output_type": "execute_result"
    }
   ],
   "source": [
    "sum([1 if not x else 0 for x in filter(lambda x: not x, [pd.read_csv(f\"../value_models_experiments/GSVM/{e}/worlds_results/world{n}/eps_{eps}/um_violations.csv\").empty \n",
    "                             for e, n, eps in it.product([0, 1], range(0, 20), [1.25, 2.5, 5.0, 10.0])])])"
   ]
  },
  {
   "cell_type": "code",
   "execution_count": 3,
   "metadata": {},
   "outputs": [
    {
     "data": {
      "text/plain": [
       "12"
      ]
     },
     "execution_count": 3,
     "metadata": {},
     "output_type": "execute_result"
    }
   ],
   "source": [
    "sum([1 if not x else 0 for x in filter(lambda x: not x, [pd.read_csv(f\"../value_models_experiments/LSVM/{e}/worlds_results/world{n}/eps_{eps}/um_violations.csv\").empty \n",
    "                             for e, n, eps in it.product([0], range(0, 6), [1.25, 2.5, 5.0, 10.0])])])"
   ]
  }
 ],
 "metadata": {
  "kernelspec": {
   "display_name": "Python 3",
   "language": "python",
   "name": "python3"
  },
  "language_info": {
   "codemirror_mode": {
    "name": "ipython",
    "version": 3
   },
   "file_extension": ".py",
   "mimetype": "text/x-python",
   "name": "python",
   "nbconvert_exporter": "python",
   "pygments_lexer": "ipython3",
   "version": "3.8.5"
  }
 },
 "nbformat": 4,
 "nbformat_minor": 4
}
